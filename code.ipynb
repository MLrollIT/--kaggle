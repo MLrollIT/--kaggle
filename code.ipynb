{
 "cells": [
  {
   "cell_type": "code",
   "execution_count": 4,
   "metadata": {
    "deletable": false,
    "editable": false
   },
   "outputs": [],
   "source": [
    "# Initialize Otter\n",
    "import otter\n",
    "grader = otter.Notebook(\"code.ipynb\")"
   ]
  },
  {
   "attachments": {},
   "cell_type": "markdown",
   "metadata": {},
   "source": [
    "# 1 用户存款行为预测"
   ]
  },
  {
   "cell_type": "markdown",
   "metadata": {},
   "source": [
    "### 数据集\n",
    "\n",
    "银行营销数据集"
   ]
  },
  {
   "cell_type": "markdown",
   "metadata": {},
   "source": [
    "#### 背景介绍\n",
    "\n",
    "金融机构为了在下一次营销活动寻找最佳的改进策略，探寻如何在未来的营销活动中发挥更大的效力。为了解决这个问题，数据分析师必须分析该银行最近开展的营销活动，通过之前活动的情况预测用户是否会参加之后的营销活动。\n",
    "\n",
    "#### 特征介绍\n",
    "\n",
    "##### 个人信息相关\n",
    "1 - age : 年龄 (数值列)\n",
    "\n",
    "2 - job : 职业的种类(类别列: 'admin.','blue-collar','entrepreneur','housemaid','management','retired','self-employed','services','student','technician','unemployed','unknown')\n",
    "\n",
    "3 - marital : 婚姻状况 (类别列: 'divorced','married','single','unknown')\n",
    "\n",
    "4 - education : 受教育情况(类别列: \n",
    "'basic.4y','basic.6y','basic.9y','high.school','illiterate','professional.course','university.degree','unknown')\n",
    "\n",
    "5 - default: 是否信用违约 (类别列: 'no','yes','unknown')\n",
    "\n",
    "6 - balance: 余额 (数值列)\n",
    "\n",
    "7 - housing: 是否有住房贷款(类别列: 'no','yes','unknown')\n",
    "\n",
    "8 - loan: 是否有个人贷款? (类别列: 'no','yes','unknown')\n",
    "\n",
    "\n",
    "\n",
    "##### 与当前营销活动的最后一次联系：\n",
    "9 - contact: 联系人通信类型 (类别列: 'cellular','telephone')\n",
    "\n",
    "10 - month: 最后一次联系的月份 (类别列: 'jan', 'feb', 'mar', ..., 'nov', 'dec')\n",
    "\n",
    "11 - day: 最后一次联系在星期几？ (类别列: 'mon','tue','wed','thu','fri')\n",
    "\n",
    "12 - duration: 最后一次联系的时长, 单位秒 (数值列). \n",
    "\n",
    "##### 其他的一些特征：\n",
    "13 - campaign: 此活动期间和此客户的联系人数 (数值列)\n",
    "\n",
    "14 - pdays: 上次活动中联系客户后经过的天数 (数值列; 999 表示近期无联系)\n",
    "\n",
    "15 - previous: 此活动之前和此客户端执行的联系人数 (数值列)\n",
    "\n",
    "16 - poutcome: 上一次营销活动的结果 (类别列: 'failure','nonexistent','success')"
   ]
  },
  {
   "cell_type": "markdown",
   "metadata": {},
   "source": [
    "\n",
    "\n",
    "\n",
    "### 目标\n",
    "\n",
    "##### 预测定期存款额度\n",
    "\n",
    "17 - deposit: 是否会存款 (类别列: 'yes','no')\n",
    "\n",
    "\n",
    "- 数据来源：https://www.kaggle.com/datasets/janiobachmann/bank-marketing-dataset"
   ]
  },
  {
   "cell_type": "markdown",
   "metadata": {},
   "source": [
    "## 1.1 环境导入和数据准备"
   ]
  },
  {
   "cell_type": "code",
   "execution_count": 6,
   "metadata": {},
   "outputs": [],
   "source": [
    "import numpy as np\n",
    "import pandas as pd\n",
    "from sklearn.preprocessing import LabelEncoder\n",
    "from sklearn.metrics import accuracy_score\n",
    "from sklearn.model_selection import train_test_split\n",
    "from sklearn.svm import SVC \n",
    "from sklearn.linear_model import LogisticRegression\n",
    "rng_seed = 44"
   ]
  },
  {
   "cell_type": "code",
   "execution_count": 7,
   "metadata": {},
   "outputs": [
    {
     "ename": "FileNotFoundError",
     "evalue": "[Errno 2] No such file or directory: 'bank.csv'",
     "output_type": "error",
     "traceback": [
      "\u001b[1;31m---------------------------------------------------------------------------\u001b[0m",
      "\u001b[1;31mFileNotFoundError\u001b[0m                         Traceback (most recent call last)",
      "Cell \u001b[1;32mIn[7], line 1\u001b[0m\n\u001b[1;32m----> 1\u001b[0m df\u001b[38;5;241m=\u001b[39m\u001b[43mpd\u001b[49m\u001b[38;5;241;43m.\u001b[39;49m\u001b[43mread_csv\u001b[49m\u001b[43m(\u001b[49m\u001b[38;5;124;43m\"\u001b[39;49m\u001b[38;5;124;43mbank.csv\u001b[39;49m\u001b[38;5;124;43m\"\u001b[39;49m\u001b[43m)\u001b[49m\n\u001b[0;32m      2\u001b[0m df\u001b[38;5;241m.\u001b[39minfo()\n",
      "File \u001b[1;32mc:\\Users\\YangDL\\AppData\\Local\\Programs\\Python\\Python312\\Lib\\site-packages\\pandas\\io\\parsers\\readers.py:1024\u001b[0m, in \u001b[0;36mread_csv\u001b[1;34m(filepath_or_buffer, sep, delimiter, header, names, index_col, usecols, dtype, engine, converters, true_values, false_values, skipinitialspace, skiprows, skipfooter, nrows, na_values, keep_default_na, na_filter, verbose, skip_blank_lines, parse_dates, infer_datetime_format, keep_date_col, date_parser, date_format, dayfirst, cache_dates, iterator, chunksize, compression, thousands, decimal, lineterminator, quotechar, quoting, doublequote, escapechar, comment, encoding, encoding_errors, dialect, on_bad_lines, delim_whitespace, low_memory, memory_map, float_precision, storage_options, dtype_backend)\u001b[0m\n\u001b[0;32m   1011\u001b[0m kwds_defaults \u001b[38;5;241m=\u001b[39m _refine_defaults_read(\n\u001b[0;32m   1012\u001b[0m     dialect,\n\u001b[0;32m   1013\u001b[0m     delimiter,\n\u001b[1;32m   (...)\u001b[0m\n\u001b[0;32m   1020\u001b[0m     dtype_backend\u001b[38;5;241m=\u001b[39mdtype_backend,\n\u001b[0;32m   1021\u001b[0m )\n\u001b[0;32m   1022\u001b[0m kwds\u001b[38;5;241m.\u001b[39mupdate(kwds_defaults)\n\u001b[1;32m-> 1024\u001b[0m \u001b[38;5;28;01mreturn\u001b[39;00m \u001b[43m_read\u001b[49m\u001b[43m(\u001b[49m\u001b[43mfilepath_or_buffer\u001b[49m\u001b[43m,\u001b[49m\u001b[43m \u001b[49m\u001b[43mkwds\u001b[49m\u001b[43m)\u001b[49m\n",
      "File \u001b[1;32mc:\\Users\\YangDL\\AppData\\Local\\Programs\\Python\\Python312\\Lib\\site-packages\\pandas\\io\\parsers\\readers.py:618\u001b[0m, in \u001b[0;36m_read\u001b[1;34m(filepath_or_buffer, kwds)\u001b[0m\n\u001b[0;32m    615\u001b[0m _validate_names(kwds\u001b[38;5;241m.\u001b[39mget(\u001b[38;5;124m\"\u001b[39m\u001b[38;5;124mnames\u001b[39m\u001b[38;5;124m\"\u001b[39m, \u001b[38;5;28;01mNone\u001b[39;00m))\n\u001b[0;32m    617\u001b[0m \u001b[38;5;66;03m# Create the parser.\u001b[39;00m\n\u001b[1;32m--> 618\u001b[0m parser \u001b[38;5;241m=\u001b[39m \u001b[43mTextFileReader\u001b[49m\u001b[43m(\u001b[49m\u001b[43mfilepath_or_buffer\u001b[49m\u001b[43m,\u001b[49m\u001b[43m \u001b[49m\u001b[38;5;241;43m*\u001b[39;49m\u001b[38;5;241;43m*\u001b[39;49m\u001b[43mkwds\u001b[49m\u001b[43m)\u001b[49m\n\u001b[0;32m    620\u001b[0m \u001b[38;5;28;01mif\u001b[39;00m chunksize \u001b[38;5;129;01mor\u001b[39;00m iterator:\n\u001b[0;32m    621\u001b[0m     \u001b[38;5;28;01mreturn\u001b[39;00m parser\n",
      "File \u001b[1;32mc:\\Users\\YangDL\\AppData\\Local\\Programs\\Python\\Python312\\Lib\\site-packages\\pandas\\io\\parsers\\readers.py:1618\u001b[0m, in \u001b[0;36mTextFileReader.__init__\u001b[1;34m(self, f, engine, **kwds)\u001b[0m\n\u001b[0;32m   1615\u001b[0m     \u001b[38;5;28mself\u001b[39m\u001b[38;5;241m.\u001b[39moptions[\u001b[38;5;124m\"\u001b[39m\u001b[38;5;124mhas_index_names\u001b[39m\u001b[38;5;124m\"\u001b[39m] \u001b[38;5;241m=\u001b[39m kwds[\u001b[38;5;124m\"\u001b[39m\u001b[38;5;124mhas_index_names\u001b[39m\u001b[38;5;124m\"\u001b[39m]\n\u001b[0;32m   1617\u001b[0m \u001b[38;5;28mself\u001b[39m\u001b[38;5;241m.\u001b[39mhandles: IOHandles \u001b[38;5;241m|\u001b[39m \u001b[38;5;28;01mNone\u001b[39;00m \u001b[38;5;241m=\u001b[39m \u001b[38;5;28;01mNone\u001b[39;00m\n\u001b[1;32m-> 1618\u001b[0m \u001b[38;5;28mself\u001b[39m\u001b[38;5;241m.\u001b[39m_engine \u001b[38;5;241m=\u001b[39m \u001b[38;5;28;43mself\u001b[39;49m\u001b[38;5;241;43m.\u001b[39;49m\u001b[43m_make_engine\u001b[49m\u001b[43m(\u001b[49m\u001b[43mf\u001b[49m\u001b[43m,\u001b[49m\u001b[43m \u001b[49m\u001b[38;5;28;43mself\u001b[39;49m\u001b[38;5;241;43m.\u001b[39;49m\u001b[43mengine\u001b[49m\u001b[43m)\u001b[49m\n",
      "File \u001b[1;32mc:\\Users\\YangDL\\AppData\\Local\\Programs\\Python\\Python312\\Lib\\site-packages\\pandas\\io\\parsers\\readers.py:1878\u001b[0m, in \u001b[0;36mTextFileReader._make_engine\u001b[1;34m(self, f, engine)\u001b[0m\n\u001b[0;32m   1876\u001b[0m     \u001b[38;5;28;01mif\u001b[39;00m \u001b[38;5;124m\"\u001b[39m\u001b[38;5;124mb\u001b[39m\u001b[38;5;124m\"\u001b[39m \u001b[38;5;129;01mnot\u001b[39;00m \u001b[38;5;129;01min\u001b[39;00m mode:\n\u001b[0;32m   1877\u001b[0m         mode \u001b[38;5;241m+\u001b[39m\u001b[38;5;241m=\u001b[39m \u001b[38;5;124m\"\u001b[39m\u001b[38;5;124mb\u001b[39m\u001b[38;5;124m\"\u001b[39m\n\u001b[1;32m-> 1878\u001b[0m \u001b[38;5;28mself\u001b[39m\u001b[38;5;241m.\u001b[39mhandles \u001b[38;5;241m=\u001b[39m \u001b[43mget_handle\u001b[49m\u001b[43m(\u001b[49m\n\u001b[0;32m   1879\u001b[0m \u001b[43m    \u001b[49m\u001b[43mf\u001b[49m\u001b[43m,\u001b[49m\n\u001b[0;32m   1880\u001b[0m \u001b[43m    \u001b[49m\u001b[43mmode\u001b[49m\u001b[43m,\u001b[49m\n\u001b[0;32m   1881\u001b[0m \u001b[43m    \u001b[49m\u001b[43mencoding\u001b[49m\u001b[38;5;241;43m=\u001b[39;49m\u001b[38;5;28;43mself\u001b[39;49m\u001b[38;5;241;43m.\u001b[39;49m\u001b[43moptions\u001b[49m\u001b[38;5;241;43m.\u001b[39;49m\u001b[43mget\u001b[49m\u001b[43m(\u001b[49m\u001b[38;5;124;43m\"\u001b[39;49m\u001b[38;5;124;43mencoding\u001b[39;49m\u001b[38;5;124;43m\"\u001b[39;49m\u001b[43m,\u001b[49m\u001b[43m \u001b[49m\u001b[38;5;28;43;01mNone\u001b[39;49;00m\u001b[43m)\u001b[49m\u001b[43m,\u001b[49m\n\u001b[0;32m   1882\u001b[0m \u001b[43m    \u001b[49m\u001b[43mcompression\u001b[49m\u001b[38;5;241;43m=\u001b[39;49m\u001b[38;5;28;43mself\u001b[39;49m\u001b[38;5;241;43m.\u001b[39;49m\u001b[43moptions\u001b[49m\u001b[38;5;241;43m.\u001b[39;49m\u001b[43mget\u001b[49m\u001b[43m(\u001b[49m\u001b[38;5;124;43m\"\u001b[39;49m\u001b[38;5;124;43mcompression\u001b[39;49m\u001b[38;5;124;43m\"\u001b[39;49m\u001b[43m,\u001b[49m\u001b[43m \u001b[49m\u001b[38;5;28;43;01mNone\u001b[39;49;00m\u001b[43m)\u001b[49m\u001b[43m,\u001b[49m\n\u001b[0;32m   1883\u001b[0m \u001b[43m    \u001b[49m\u001b[43mmemory_map\u001b[49m\u001b[38;5;241;43m=\u001b[39;49m\u001b[38;5;28;43mself\u001b[39;49m\u001b[38;5;241;43m.\u001b[39;49m\u001b[43moptions\u001b[49m\u001b[38;5;241;43m.\u001b[39;49m\u001b[43mget\u001b[49m\u001b[43m(\u001b[49m\u001b[38;5;124;43m\"\u001b[39;49m\u001b[38;5;124;43mmemory_map\u001b[39;49m\u001b[38;5;124;43m\"\u001b[39;49m\u001b[43m,\u001b[49m\u001b[43m \u001b[49m\u001b[38;5;28;43;01mFalse\u001b[39;49;00m\u001b[43m)\u001b[49m\u001b[43m,\u001b[49m\n\u001b[0;32m   1884\u001b[0m \u001b[43m    \u001b[49m\u001b[43mis_text\u001b[49m\u001b[38;5;241;43m=\u001b[39;49m\u001b[43mis_text\u001b[49m\u001b[43m,\u001b[49m\n\u001b[0;32m   1885\u001b[0m \u001b[43m    \u001b[49m\u001b[43merrors\u001b[49m\u001b[38;5;241;43m=\u001b[39;49m\u001b[38;5;28;43mself\u001b[39;49m\u001b[38;5;241;43m.\u001b[39;49m\u001b[43moptions\u001b[49m\u001b[38;5;241;43m.\u001b[39;49m\u001b[43mget\u001b[49m\u001b[43m(\u001b[49m\u001b[38;5;124;43m\"\u001b[39;49m\u001b[38;5;124;43mencoding_errors\u001b[39;49m\u001b[38;5;124;43m\"\u001b[39;49m\u001b[43m,\u001b[49m\u001b[43m \u001b[49m\u001b[38;5;124;43m\"\u001b[39;49m\u001b[38;5;124;43mstrict\u001b[39;49m\u001b[38;5;124;43m\"\u001b[39;49m\u001b[43m)\u001b[49m\u001b[43m,\u001b[49m\n\u001b[0;32m   1886\u001b[0m \u001b[43m    \u001b[49m\u001b[43mstorage_options\u001b[49m\u001b[38;5;241;43m=\u001b[39;49m\u001b[38;5;28;43mself\u001b[39;49m\u001b[38;5;241;43m.\u001b[39;49m\u001b[43moptions\u001b[49m\u001b[38;5;241;43m.\u001b[39;49m\u001b[43mget\u001b[49m\u001b[43m(\u001b[49m\u001b[38;5;124;43m\"\u001b[39;49m\u001b[38;5;124;43mstorage_options\u001b[39;49m\u001b[38;5;124;43m\"\u001b[39;49m\u001b[43m,\u001b[49m\u001b[43m \u001b[49m\u001b[38;5;28;43;01mNone\u001b[39;49;00m\u001b[43m)\u001b[49m\u001b[43m,\u001b[49m\n\u001b[0;32m   1887\u001b[0m \u001b[43m\u001b[49m\u001b[43m)\u001b[49m\n\u001b[0;32m   1888\u001b[0m \u001b[38;5;28;01massert\u001b[39;00m \u001b[38;5;28mself\u001b[39m\u001b[38;5;241m.\u001b[39mhandles \u001b[38;5;129;01mis\u001b[39;00m \u001b[38;5;129;01mnot\u001b[39;00m \u001b[38;5;28;01mNone\u001b[39;00m\n\u001b[0;32m   1889\u001b[0m f \u001b[38;5;241m=\u001b[39m \u001b[38;5;28mself\u001b[39m\u001b[38;5;241m.\u001b[39mhandles\u001b[38;5;241m.\u001b[39mhandle\n",
      "File \u001b[1;32mc:\\Users\\YangDL\\AppData\\Local\\Programs\\Python\\Python312\\Lib\\site-packages\\pandas\\io\\common.py:873\u001b[0m, in \u001b[0;36mget_handle\u001b[1;34m(path_or_buf, mode, encoding, compression, memory_map, is_text, errors, storage_options)\u001b[0m\n\u001b[0;32m    868\u001b[0m \u001b[38;5;28;01melif\u001b[39;00m \u001b[38;5;28misinstance\u001b[39m(handle, \u001b[38;5;28mstr\u001b[39m):\n\u001b[0;32m    869\u001b[0m     \u001b[38;5;66;03m# Check whether the filename is to be opened in binary mode.\u001b[39;00m\n\u001b[0;32m    870\u001b[0m     \u001b[38;5;66;03m# Binary mode does not support 'encoding' and 'newline'.\u001b[39;00m\n\u001b[0;32m    871\u001b[0m     \u001b[38;5;28;01mif\u001b[39;00m ioargs\u001b[38;5;241m.\u001b[39mencoding \u001b[38;5;129;01mand\u001b[39;00m \u001b[38;5;124m\"\u001b[39m\u001b[38;5;124mb\u001b[39m\u001b[38;5;124m\"\u001b[39m \u001b[38;5;129;01mnot\u001b[39;00m \u001b[38;5;129;01min\u001b[39;00m ioargs\u001b[38;5;241m.\u001b[39mmode:\n\u001b[0;32m    872\u001b[0m         \u001b[38;5;66;03m# Encoding\u001b[39;00m\n\u001b[1;32m--> 873\u001b[0m         handle \u001b[38;5;241m=\u001b[39m \u001b[38;5;28;43mopen\u001b[39;49m\u001b[43m(\u001b[49m\n\u001b[0;32m    874\u001b[0m \u001b[43m            \u001b[49m\u001b[43mhandle\u001b[49m\u001b[43m,\u001b[49m\n\u001b[0;32m    875\u001b[0m \u001b[43m            \u001b[49m\u001b[43mioargs\u001b[49m\u001b[38;5;241;43m.\u001b[39;49m\u001b[43mmode\u001b[49m\u001b[43m,\u001b[49m\n\u001b[0;32m    876\u001b[0m \u001b[43m            \u001b[49m\u001b[43mencoding\u001b[49m\u001b[38;5;241;43m=\u001b[39;49m\u001b[43mioargs\u001b[49m\u001b[38;5;241;43m.\u001b[39;49m\u001b[43mencoding\u001b[49m\u001b[43m,\u001b[49m\n\u001b[0;32m    877\u001b[0m \u001b[43m            \u001b[49m\u001b[43merrors\u001b[49m\u001b[38;5;241;43m=\u001b[39;49m\u001b[43merrors\u001b[49m\u001b[43m,\u001b[49m\n\u001b[0;32m    878\u001b[0m \u001b[43m            \u001b[49m\u001b[43mnewline\u001b[49m\u001b[38;5;241;43m=\u001b[39;49m\u001b[38;5;124;43m\"\u001b[39;49m\u001b[38;5;124;43m\"\u001b[39;49m\u001b[43m,\u001b[49m\n\u001b[0;32m    879\u001b[0m \u001b[43m        \u001b[49m\u001b[43m)\u001b[49m\n\u001b[0;32m    880\u001b[0m     \u001b[38;5;28;01melse\u001b[39;00m:\n\u001b[0;32m    881\u001b[0m         \u001b[38;5;66;03m# Binary mode\u001b[39;00m\n\u001b[0;32m    882\u001b[0m         handle \u001b[38;5;241m=\u001b[39m \u001b[38;5;28mopen\u001b[39m(handle, ioargs\u001b[38;5;241m.\u001b[39mmode)\n",
      "\u001b[1;31mFileNotFoundError\u001b[0m: [Errno 2] No such file or directory: 'bank.csv'"
     ]
    }
   ],
   "source": [
    "df=pd.read_csv(\"bank.csv\")\n",
    "df.info()"
   ]
  },
  {
   "cell_type": "code",
   "execution_count": null,
   "metadata": {},
   "outputs": [
    {
     "name": "stdout",
     "output_type": "stream",
     "text": [
      "11162\n"
     ]
    }
   ],
   "source": [
    "from sklearn.preprocessing import LabelEncoder\n",
    "x = df.iloc[:,:-1]\n",
    "y = df.iloc[:,-1]\n",
    "\n",
    "print(len(x))\n",
    "x_simple_prepared = pd.get_dummies(x.copy())\n",
    "\n",
    "lbe =  LabelEncoder()\n",
    "lbe.fit(y)\n",
    "y = lbe.transform(y)"
   ]
  },
  {
   "cell_type": "markdown",
   "metadata": {
    "deletable": false,
    "editable": false
   },
   "source": [
    "## 1.2 模型的训练和评估"
   ]
  },
  {
   "cell_type": "code",
   "execution_count": null,
   "metadata": {
    "tags": []
   },
   "outputs": [
    {
     "name": "stdout",
     "output_type": "stream",
     "text": [
      "svc accuracy: 0.7357814599193909\n",
      "lr accuracy: 0.8244514106583072\n"
     ]
    }
   ],
   "source": [
    "from sklearn.model_selection import train_test_split\n",
    "from sklearn.svm import SVC\n",
    "from sklearn.linear_model import LogisticRegression\n",
    "from sklearn.preprocessing import LabelEncoder\n",
    "from sklearn.metrics import accuracy_score\n",
    "\n",
    "rng_seed = 44\n",
    "np.random.seed(rng_seed)\n",
    "\n",
    "\n",
    "\n",
    "# Split the data\n",
    "x_train, x_test, y_train, y_test = train_test_split(x_simple_prepared, y, train_size=0.8, test_size=0.2, random_state=0)\n",
    "\n",
    "# Train SVC model\n",
    "svc_model = SVC(random_state=0, probability=True)\n",
    "svc_model.fit(x_train, y_train)\n",
    "\n",
    "# Evaluate SVC model\n",
    "y_svc_pred = svc_model.predict(x_test)\n",
    "svc_accuracy = accuracy_score(y_test, y_svc_pred)\n",
    "\n",
    "# Train LR model\n",
    "lr_model = LogisticRegression(random_state=0, max_iter=10000)\n",
    "lr_model.fit(x_train, y_train)\n",
    "\n",
    "# Evaluate LR model\n",
    "y_lr_pred = lr_model.predict(x_test)\n",
    "lr_accuracy = accuracy_score(y_test, y_lr_pred)\n",
    "\n",
    "print('svc accuracy:', svc_accuracy)\n",
    "print('lr accuracy:', lr_accuracy)\n",
    "\n",
    "# Assign the calculated accuracy to svc_simple_score\n",
    "svc_simple_score = svc_accuracy\n"
   ]
  },
  {
   "cell_type": "markdown",
   "metadata": {
    "deletable": false,
    "editable": false
   },
   "source": [
    "## 1.3 数据预处理和再训练"
   ]
  },
  {
   "cell_type": "markdown",
   "metadata": {
    "deletable": false,
    "editable": false
   },
   "source": [
    "**数据预处理**可以参考的数据准备操作：https://scikit-learn.org/stable/modules/preprocessing.html#preprocessing\n",
    "* 针对`x_train`, `y_train`, `x_test`, `y_test`使用数据准备操作，但要保证\n",
    "  * 不能增加或删减`x_test`和`y_test`的行，但可以对它们进行变换\n",
    "  * 可以对`x_train`和`y_train`做任何操作"
   ]
  },
  {
   "cell_type": "code",
   "execution_count": null,
   "metadata": {
    "tags": []
   },
   "outputs": [
    {
     "name": "stdout",
     "output_type": "stream",
     "text": [
      "svc accuracy: 0.8478066248880931\n",
      "lr_simple accuracy: 0.8182632050134289\n",
      "lr accuracy: 0.8218442256042973\n"
     ]
    }
   ],
   "source": [
    "import numpy as np\n",
    "import pandas as pd\n",
    "from sklearn.model_selection import train_test_split\n",
    "from sklearn import preprocessing\n",
    "from sklearn.svm import SVC\n",
    "from sklearn.linear_model import LogisticRegression\n",
    "from sklearn.preprocessing import LabelEncoder, StandardScaler\n",
    "from sklearn.feature_selection import SelectKBest, f_classif\n",
    "from sklearn.metrics import accuracy_score\n",
    "from sklearn.feature_selection import mutual_info_classif\n",
    "\n",
    "\n",
    "rng_seed = 44\n",
    "np.random.seed(rng_seed)\n",
    "\n",
    "# Assume df is your dataset\n",
    "# Handling outliers\n",
    "# ...\n",
    "df = df.dropna()\n",
    "# Separating features and labels, encoding labels\n",
    "y = df.iloc[:, -1]\n",
    "lbe = LabelEncoder()\n",
    "y_encoded = lbe.fit_transform(y)\n",
    "\n",
    "# Encoding features\n",
    "x = df.iloc[:, :-1]\n",
    "x_encoded = pd.get_dummies(x.copy())\n",
    "\n",
    "# Normalizing features\n",
    "scaler = preprocessing.StandardScaler()\n",
    "x_normalized = scaler.fit_transform(x_encoded)\n",
    "\n",
    "# Feature engineering, using SelectKBest as an example\n",
    "# You can choose other feature engineering methods based on your specific needs\n",
    "k_best = SelectKBest(mutual_info_classif, k=51)\n",
    "x_feature_engineered = k_best.fit_transform(x_normalized, y_encoded)\n",
    "\n",
    "# Splitting the dataset\n",
    "x_train_my, x_test, y_train, y_test = train_test_split(x_feature_engineered, y_encoded, train_size=0.9, test_size=0.1, random_state=0)\n",
    "\n",
    "# Encoding features for simple LR model\n",
    "x_simple_encoded = pd.get_dummies(x.copy())\n",
    "\n",
    "# Splitting the dataset for simple LR model\n",
    "x_train_simple, x_test_simple, y_train_simple, y_test_simple = train_test_split(x_simple_encoded, y, train_size=0.9, test_size=0.1, random_state=0)\n",
    "\n",
    "# Training the SVC model\n",
    "svc_model = SVC(random_state=0, probability=True)\n",
    "svc_model.fit(x_train_my, y_train)\n",
    "y_svc_pred = svc_model.predict(x_test)\n",
    "svc_score = accuracy_score(y_test, y_svc_pred)\n",
    "\n",
    "# Training the simple LR model\n",
    "lr_model_simple = LogisticRegression(random_state=0, max_iter=10000)\n",
    "lr_model_simple.fit(x_train_simple, y_train_simple)\n",
    "y_lr_pred_simple = lr_model_simple.predict(x_test_simple)\n",
    "lr_simple_score = accuracy_score(y_test_simple, y_lr_pred_simple)\n",
    "\n",
    "# Training the enhanced LR model\n",
    "lr_model = LogisticRegression(random_state=0, max_iter=10000)\n",
    "lr_model.fit(x_train_my, y_train)\n",
    "y_lr_pred = lr_model.predict(x_test)\n",
    "lr_score = accuracy_score(y_test, y_lr_pred)\n",
    "\n",
    "print('svc accuracy:', svc_score)\n",
    "print('lr_simple accuracy:', lr_simple_score)\n",
    "print('lr accuracy:', lr_score)\n"
   ]
  },
  {
   "cell_type": "markdown",
   "metadata": {},
   "source": [
    "# 2 逻辑回归分类器的实现"
   ]
  },
  {
   "cell_type": "markdown",
   "metadata": {
    "deletable": false,
    "editable": false
   },
   "source": [
    "## 2.1 确定优化目标"
   ]
  },
  {
   "attachments": {},
   "cell_type": "markdown",
   "metadata": {
    "deletable": false,
    "editable": false
   },
   "source": [
    "我们采用二元交叉熵作为损失函数，具体的推理过程可参考主课[Lec09](../../Lectures/Lec09/)\n",
    "\n",
    "$J(\\theta) = -\\frac{1}{m} \\sum_{i=1}^{m} \\left[ y^{(i)} \\log(\\hat{y}^{(i)}) + (1 - y^{(i)}) \\log(1 - \\hat{y}^{(i)}) \\right]$\n",
    "\n",
    "* $J(\\theta)$是损失函数\n",
    "* $m$是样本数量\n",
    "* $y^{(i)}$是第$i$个样本的真实标签\n",
    "* $\\hat{y}^{(i)}$是预测概率\n",
    "* $\\theta$是权重向量"
   ]
  },
  {
   "cell_type": "code",
   "execution_count": null,
   "metadata": {
    "tags": []
   },
   "outputs": [],
   "source": [
    "rng_seed = 44\n",
    "np.random.seed(rng_seed)\n",
    "#  实现sigmoid激活函数\n",
    "def sigmoid(z):\n",
    "    return 1 / (1 + np.exp(-z))\n",
    "# 实现二元交叉熵损失函数\n",
    "def logistic_loss(y, y_hat):\n",
    "    logistic_loss =-np.mean( y * np.log(y_hat ) + (1 - y) * np.log(1 - y_hat ))\n",
    "    return logistic_loss\n",
    "# 定义整体损失函数\n",
    "def loss_function(X, y, weights):\n",
    "    z = np.dot(X, weights)\n",
    "    y_hat = sigmoid(z)\n",
    "    loss = logistic_loss(y, y_hat)\n",
    "    return loss\n"
   ]
  },
  {
   "cell_type": "markdown",
   "metadata": {
    "deletable": false,
    "editable": false
   },
   "source": [
    "## 2.2 计算优化目标的梯度\n"
   ]
  },
  {
   "cell_type": "markdown",
   "metadata": {
    "deletable": false,
    "editable": false
   },
   "source": [
    "$\\nabla_{\\theta} J(\\theta) = \\frac{1}{m} X^T (\\hat{y} - y)$\n"
   ]
  },
  {
   "cell_type": "code",
   "execution_count": null,
   "metadata": {
    "tags": []
   },
   "outputs": [],
   "source": [
    "# 实现sigmoid激活函数\n",
    "def sigmoid(z):\n",
    "    return 1 / (1 + np.exp(-z))\n",
    "\n",
    "# 实现梯度函数\n",
    "def gradient(X, y, weights):\n",
    "    m = y.size\n",
    "    z = np.dot(X, weights)\n",
    "    y_hat = sigmoid(z)\n",
    "    error = y_hat - y\n",
    "    gradient = (1 / m) * np.dot(X.T, error)\n",
    "    return gradient"
   ]
  },
  {
   "cell_type": "markdown",
   "metadata": {
    "deletable": false,
    "editable": false
   },
   "source": [
    "## 2.3 使用随机梯度下降（SGD）进行优化\n",
    "\n",
    "权重更新的数学表示为：\n",
    "\n",
    "$\\theta = \\theta - \\alpha \\nabla_{\\theta} J(\\theta)$"
   ]
  },
  {
   "cell_type": "code",
   "execution_count": null,
   "metadata": {
    "tags": []
   },
   "outputs": [],
   "source": [
    "def stochastic_gradient_descent(X, y, weights, learning_rate=0.01, num_iterations=100):\n",
    "    m = y.size\n",
    "    loss_history = []\n",
    "    \n",
    "    for i in range(num_iterations):\n",
    "        for j in range(m):\n",
    "            # 随机选择一个数据点\n",
    "            idx = np.random.randint(m)\n",
    "            X_i = X[idx, :].reshape(1, -1)\n",
    "            y_i = y[idx]\n",
    "            \n",
    "            # 计算梯度并更新权重\n",
    "            grad = gradient(X_i,y_i,weights)\n",
    "            weights -= learning_rate * grad\n",
    "            \n",
    "            # 计算并记录损失，用于监控\n",
    "            loss = loss_function(X,y,weights)\n",
    "            loss_history.append(loss)\n",
    "        \n",
    "        # 每10次迭代打印一次损失值\n",
    "#         if (i+1) % 1 == 0:\n",
    "#             print(f\"Iteration {i+1}/{num_iterations}, Loss: {loss:.4f}\")\n",
    "    \n",
    "    return weights, loss_history\n",
    "# rng_seed=44\n",
    "# np.random.seed(rng_seed)\n",
    "# num_features = 6\n",
    "# num_samples = 138\n",
    "# dummy_weights = np.random.rand(num_features)\n",
    "# dummy_X = np.random.rand(num_samples, num_features)\n",
    "# dummy_y = np.random.randint(0, 2, num_samples)\n",
    "# initial_weights = np.zeros(num_features)\n",
    "\n",
    "# final_weights, loss_history = stochastic_gradient_descent(dummy_X, dummy_y, initial_weights)"
   ]
  },
  {
   "cell_type": "markdown",
   "metadata": {
    "deletable": false,
    "editable": false
   },
   "source": [
    "## 2.4 训练与评测\n"
   ]
  },
  {
   "cell_type": "code",
   "execution_count": null,
   "metadata": {
    "deletable": false,
    "editable": false
   },
   "outputs": [],
   "source": [
    "# 得到初始的x_train, x_test\n",
    "\n",
    "x_simple_prepared = pd.get_dummies(x.copy())\n",
    "\n",
    "lbe = LabelEncoder()\n",
    "lbe.fit(y)\n",
    "y = lbe.transform(y)\n",
    "\n",
    "# 划分train，test数据集\n",
    "x_train, x_test, y_train, y_test = train_test_split(x_simple_prepared, y, train_size=0.8, test_size=1-0.8, random_state=0)\n",
    "x_train = x_train.values\n",
    "x_test = x_test.values\n",
    "x_train = np.where(x_train == True, 1, x_train)\n",
    "x_train = np.where(x_train == False, 0, x_train)\n",
    "x_test = np.where(x_test == True, 1, x_test)\n",
    "x_test = np.where(x_test == False, 0, x_test)\n",
    "x_train = x_train.astype(np.float64)\n",
    "x_test = x_test.astype(np.float64)\n"
   ]
  },
  {
   "cell_type": "code",
   "execution_count": null,
   "metadata": {
    "tags": []
   },
   "outputs": [
    {
     "data": {
      "text/plain": [
       "0.8011643528884909"
      ]
     },
     "execution_count": 16,
     "metadata": {},
     "output_type": "execute_result"
    }
   ],
   "source": [
    "from sklearn.metrics import accuracy_score, classification_report\n",
    "\n",
    "np.random.seed(rng_seed)\n",
    "\n",
    "def predict(X, weights):\n",
    "    # 根据给定的权重，预测数据集X的标签\n",
    "    predictions = np.dot(X, weights)\n",
    "    return np.where(predictions >= 0.5, 1, 0)\n",
    "\n",
    "num_features = x_train.shape[1]\n",
    "\n",
    "# 标准化x_train和x_test\n",
    "mean = np.mean(x_train, axis=0)\n",
    "std = np.std(x_train, axis=0)\n",
    "\n",
    "x_train = (x_train - mean) / std\n",
    "x_test = (x_test - mean) / std\n",
    "\n",
    "# weight初始化为0\n",
    "weights = np.zeros(num_features)\n",
    "\n",
    "learning_rate = 0.01\n",
    "num_iterations = 10\n",
    "\n",
    "final_weights, loss_history = stochastic_gradient_descent(x_train, y_train, weights, learning_rate, num_iterations)\n",
    "\n",
    "predictions = predict(x_test, final_weights)\n",
    "\n",
    "accuracy = accuracy_score(y_test, predictions)\n",
    "report = classification_report(y_test, predictions)\n",
    "\n",
    "accuracy\n"
   ]
  }
 ],
 "metadata": {
  "kernelspec": {
   "display_name": "Python 3",
   "language": "python",
   "name": "python3"
  },
  "language_info": {
   "codemirror_mode": {
    "name": "ipython",
    "version": 3
   },
   "file_extension": ".py",
   "mimetype": "text/x-python",
   "name": "python",
   "nbconvert_exporter": "python",
   "pygments_lexer": "ipython3",
   "version": "3.12.0"
  },
  "otter": {
   "OK_FORMAT": true,
   "assignment_name": "labs01",
   "tests": {
    "p1_1": {
     "name": "p1_1",
     "points": 20,
     "suites": [
      {
       "cases": [
        {
         "code": ">>> assert df['age'][2] == 41 and df['balance'][48] == 1443\n",
         "hidden": false,
         "locked": false
        },
        {
         "code": ">>> assert abs(svc_simple_score - 0.7357814599193909) < 0.01\n",
         "hidden": false,
         "locked": false
        }
       ],
       "scored": true,
       "setup": "",
       "teardown": "",
       "type": "doctest"
      }
     ]
    },
    "p1_2": {
     "name": "p1_2",
     "points": 20,
     "suites": [
      {
       "cases": [
        {
         "code": ">>> assert svc_score - svc_simple_score >= 0\n",
         "hidden": false,
         "locked": false
        },
        {
         "code": ">>> assert lr_score - lr_simple_score >= 0\n",
         "hidden": false,
         "locked": false
        }
       ],
       "scored": true,
       "setup": "",
       "teardown": "",
       "type": "doctest"
      }
     ]
    },
    "p2_1": {
     "name": "p2_1",
     "points": 10,
     "suites": [
      {
       "cases": [
        {
         "code": ">>> num_features = 5\n>>> num_samples = 10\n>>> np.random.seed(rng_seed)\n>>> dummy_weights = np.random.rand(num_features)\n>>> dummy_X = np.random.rand(num_samples, num_features)\n>>> dummy_y = np.random.randint(0, 2, num_samples)\n>>> initial_loss = loss_function(dummy_X, dummy_y, dummy_weights)\n>>> assert abs(initial_loss - 0.9160538386731103) < 0.0001\n",
         "hidden": false,
         "locked": false
        }
       ],
       "scored": true,
       "setup": "",
       "teardown": "",
       "type": "doctest"
      }
     ]
    },
    "p2_2": {
     "name": "p2_2",
     "points": 10,
     "suites": [
      {
       "cases": [
        {
         "code": ">>> num_features = 5\n>>> num_samples = 10\n>>> np.random.seed(rng_seed)\n>>> dummy_weights = np.random.rand(num_features)\n>>> dummy_X = np.random.rand(num_samples, num_features)\n>>> dummy_y = np.random.randint(0, 2, num_samples)\n>>> initial_gradient = gradient(dummy_X, dummy_y, dummy_weights)\n>>> assert abs(initial_gradient.sum() - 0.7627876529375204) < 0.0001\n",
         "hidden": false,
         "locked": false
        }
       ],
       "scored": true,
       "setup": "",
       "teardown": "",
       "type": "doctest"
      }
     ]
    },
    "p2_3": {
     "name": "p2_3",
     "points": 10,
     "suites": [
      {
       "cases": [
        {
         "code": ">>> np.random.seed(rng_seed)\n>>> num_features = 6\n>>> num_samples = 138\n>>> dummy_weights = np.random.rand(num_features)\n>>> dummy_X = np.random.rand(num_samples, num_features)\n>>> dummy_y = np.random.randint(0, 2, num_samples)\n>>> initial_weights = np.zeros(num_features)\n>>> (final_weights, loss_history) = stochastic_gradient_descent(dummy_X, dummy_y, initial_weights)\n>>> assert abs(loss_history[1] - 0.6931151309283121) < 0.0001\n",
         "hidden": false,
         "locked": false
        },
        {
         "code": ">>> np.random.seed(rng_seed)\n>>> num_features = 6\n>>> num_samples = 138\n>>> dummy_weights = np.random.rand(num_features)\n>>> dummy_X = np.random.rand(num_samples, num_features)\n>>> dummy_y = np.random.randint(0, 2, num_samples)\n>>> initial_weights = np.zeros(num_features)\n>>> (final_weights, loss_history) = stochastic_gradient_descent(dummy_X, dummy_y, initial_weights)\n>>> assert abs(len(loss_history) - 13800) < 0.0001\n",
         "hidden": false,
         "locked": false
        }
       ],
       "scored": true,
       "setup": "",
       "teardown": "",
       "type": "doctest"
      }
     ]
    },
    "p2_4": {
     "name": "p2_4",
     "points": 10,
     "suites": [
      {
       "cases": [
        {
         "code": ">>> assert x_train.shape == (8929, 51)\n",
         "hidden": false,
         "locked": false
        },
        {
         "code": ">>> assert abs(float(final_weights[0]) - -0.041616572346357336) < 1e-05\n",
         "hidden": false,
         "locked": false
        },
        {
         "code": ">>> assert abs(loss_history[0] - 0.6898603068851875) < 1e-05\n",
         "hidden": false,
         "locked": false
        }
       ],
       "scored": true,
       "setup": "",
       "teardown": "",
       "type": "doctest"
      }
     ]
    }
   }
  }
 },
 "nbformat": 4,
 "nbformat_minor": 4
}

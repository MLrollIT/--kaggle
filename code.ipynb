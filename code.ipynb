{
 "cells": [
  {
   "cell_type": "code",
   "execution_count": null,
   "metadata": {
    "deletable": false,
    "editable": false
   },
   "outputs": [],
   "source": [
    "# Initialize Otter\n",
    "import otter\n",
    "grader = otter.Notebook(\"code.ipynb\")"
   ]
  },
  {
   "attachments": {},
   "cell_type": "markdown",
   "metadata": {},
   "source": [
    "# 1 用户存款行为预测"
   ]
  },
  {
   "cell_type": "markdown",
   "metadata": {},
   "source": [
    "### 数据集\n",
    "\n",
    "银行营销数据集"
   ]
  },
  {
   "cell_type": "markdown",
   "metadata": {},
   "source": [
    "#### 背景介绍\n",
    "\n",
    "金融机构为了在下一次营销活动寻找最佳的改进策略，探寻如何在未来的营销活动中发挥更大的效力。为了解决这个问题，数据分析师必须分析该银行最近开展的营销活动，通过之前活动的情况预测用户是否会参加之后的营销活动。\n",
    "\n",
    "#### 特征介绍\n",
    "\n",
    "##### 个人信息相关\n",
    "1 - age : 年龄 (数值列)\n",
    "\n",
    "2 - job : 职业的种类(类别列: 'admin.','blue-collar','entrepreneur','housemaid','management','retired','self-employed','services','student','technician','unemployed','unknown')\n",
    "\n",
    "3 - marital : 婚姻状况 (类别列: 'divorced','married','single','unknown')\n",
    "\n",
    "4 - education : 受教育情况(类别列: \n",
    "'basic.4y','basic.6y','basic.9y','high.school','illiterate','professional.course','university.degree','unknown')\n",
    "\n",
    "5 - default: 是否信用违约 (类别列: 'no','yes','unknown')\n",
    "\n",
    "6 - balance: 余额 (数值列)\n",
    "\n",
    "7 - housing: 是否有住房贷款(类别列: 'no','yes','unknown')\n",
    "\n",
    "8 - loan: 是否有个人贷款? (类别列: 'no','yes','unknown')\n",
    "\n",
    "\n",
    "\n",
    "##### 与当前营销活动的最后一次联系：\n",
    "9 - contact: 联系人通信类型 (类别列: 'cellular','telephone')\n",
    "\n",
    "10 - month: 最后一次联系的月份 (类别列: 'jan', 'feb', 'mar', ..., 'nov', 'dec')\n",
    "\n",
    "11 - day: 最后一次联系在星期几？ (类别列: 'mon','tue','wed','thu','fri')\n",
    "\n",
    "12 - duration: 最后一次联系的时长, 单位秒 (数值列). \n",
    "\n",
    "##### 其他的一些特征：\n",
    "13 - campaign: 此活动期间和此客户的联系人数 (数值列)\n",
    "\n",
    "14 - pdays: 上次活动中联系客户后经过的天数 (数值列; 999 表示近期无联系)\n",
    "\n",
    "15 - previous: 此活动之前和此客户端执行的联系人数 (数值列)\n",
    "\n",
    "16 - poutcome: 上一次营销活动的结果 (类别列: 'failure','nonexistent','success')"
   ]
  },
  {
   "cell_type": "markdown",
   "metadata": {},
   "source": [
    "\n",
    "\n",
    "\n",
    "### 目标\n",
    "\n",
    "##### 预测定期存款额度\n",
    "\n",
    "17 - deposit: 是否会存款 (类别列: 'yes','no')\n",
    "\n",
    "\n",
    "- 数据来源：https://www.kaggle.com/datasets/janiobachmann/bank-marketing-dataset"
   ]
  },
  {
   "cell_type": "markdown",
   "metadata": {},
   "source": [
    "## 1.1 环境导入和数据准备"
   ]
  },
  {
   "cell_type": "code",
   "execution_count": null,
   "metadata": {},
   "outputs": [],
   "source": [
    "import numpy as np\n",
    "import pandas as pd\n",
    "from sklearn.preprocessing import LabelEncoder\n",
    "from sklearn.metrics import accuracy_score\n",
    "from sklearn.model_selection import train_test_split\n",
    "from sklearn.svm import SVC \n",
    "from sklearn.linear_model import LogisticRegression\n",
    "rng_seed = 44"
   ]
  },
  {
   "cell_type": "code",
   "execution_count": null,
   "metadata": {},
   "outputs": [],
   "source": [
    "df=pd.read_csv(\"bank.csv\")\n",
    "df.info()"
   ]
  },
  {
   "cell_type": "code",
   "execution_count": null,
   "metadata": {},
   "outputs": [],
   "source": [
    "from sklearn.preprocessing import LabelEncoder\n",
    "x = df.iloc[:,:-1]\n",
    "y = df.iloc[:,-1]\n",
    "\n",
    "print(len(x))\n",
    "x_simple_prepared = pd.get_dummies(x.copy())\n",
    "\n",
    "lbe =  LabelEncoder()\n",
    "lbe.fit(y)\n",
    "y = lbe.transform(y)"
   ]
  },
  {
   "cell_type": "markdown",
   "metadata": {
    "deletable": false,
    "editable": false
   },
   "source": [
    "## 1.2 模型的训练和评估"
   ]
  },
  {
   "cell_type": "code",
   "execution_count": null,
   "metadata": {
    "tags": []
   },
   "outputs": [],
   "source": [
    "from sklearn.model_selection import train_test_split\n",
    "from sklearn.svm import SVC\n",
    "from sklearn.linear_model import LogisticRegression\n",
    "from sklearn.preprocessing import LabelEncoder\n",
    "from sklearn.metrics import accuracy_score\n",
    "\n",
    "rng_seed = 44\n",
    "np.random.seed(rng_seed)\n",
    "\n",
    "\n",
    "\n",
    "# Split the data\n",
    "x_train, x_test, y_train, y_test = train_test_split(x_simple_prepared, y, train_size=0.8, test_size=0.2, random_state=0)\n",
    "\n",
    "# Train SVC model\n",
    "svc_model = SVC(random_state=0, probability=True)\n",
    "svc_model.fit(x_train, y_train)\n",
    "\n",
    "# Evaluate SVC model\n",
    "y_svc_pred = svc_model.predict(x_test)\n",
    "svc_accuracy = accuracy_score(y_test, y_svc_pred)\n",
    "\n",
    "# Train LR model\n",
    "lr_model = LogisticRegression(random_state=0, max_iter=10000)\n",
    "lr_model.fit(x_train, y_train)\n",
    "\n",
    "# Evaluate LR model\n",
    "y_lr_pred = lr_model.predict(x_test)\n",
    "lr_accuracy = accuracy_score(y_test, y_lr_pred)\n",
    "\n",
    "print('svc accuracy:', svc_accuracy)\n",
    "print('lr accuracy:', lr_accuracy)\n",
    "\n",
    "# Assign the calculated accuracy to svc_simple_score\n",
    "svc_simple_score = svc_accuracy\n"
   ]
  },
  {
   "cell_type": "markdown",
   "metadata": {
    "deletable": false,
    "editable": false
   },
   "source": [
    "## 1.3 数据预处理和再训练"
   ]
  },
  {
   "cell_type": "code",
   "execution_count": null,
   "metadata": {
    "tags": []
   },
   "outputs": [],
   "source": [
    "import numpy as np\n",
    "import pandas as pd\n",
    "from sklearn.model_selection import train_test_split\n",
    "from sklearn import preprocessing\n",
    "from sklearn.svm import SVC\n",
    "from sklearn.linear_model import LogisticRegression\n",
    "from sklearn.preprocessing import LabelEncoder, StandardScaler\n",
    "from sklearn.feature_selection import SelectKBest, f_classif\n",
    "from sklearn.metrics import accuracy_score\n",
    "from sklearn.feature_selection import mutual_info_classif\n",
    "\n",
    "\n",
    "rng_seed = 44\n",
    "np.random.seed(rng_seed)\n",
    "\n",
    "# Assume df is your dataset\n",
    "# Handling outliers\n",
    "# ...\n",
    "df = df.dropna()\n",
    "# Separating features and labels, encoding labels\n",
    "y = df.iloc[:, -1]\n",
    "lbe = LabelEncoder()\n",
    "y_encoded = lbe.fit_transform(y)\n",
    "\n",
    "# Encoding features\n",
    "x = df.iloc[:, :-1]\n",
    "x_encoded = pd.get_dummies(x.copy())\n",
    "\n",
    "# Normalizing features\n",
    "scaler = preprocessing.StandardScaler()\n",
    "x_normalized = scaler.fit_transform(x_encoded)\n",
    "\n",
    "# Feature engineering, using SelectKBest as an example\n",
    "# You can choose other feature engineering methods based on your specific needs\n",
    "k_best = SelectKBest(mutual_info_classif, k=51)\n",
    "x_feature_engineered = k_best.fit_transform(x_normalized, y_encoded)\n",
    "\n",
    "# Splitting the dataset\n",
    "x_train_my, x_test, y_train, y_test = train_test_split(x_feature_engineered, y_encoded, train_size=0.9, test_size=0.1, random_state=0)\n",
    "\n",
    "# Encoding features for simple LR model\n",
    "x_simple_encoded = pd.get_dummies(x.copy())\n",
    "\n",
    "# Splitting the dataset for simple LR model\n",
    "x_train_simple, x_test_simple, y_train_simple, y_test_simple = train_test_split(x_simple_encoded, y, train_size=0.9, test_size=0.1, random_state=0)\n",
    "\n",
    "# Training the SVC model\n",
    "svc_model = SVC(random_state=0, probability=True)\n",
    "svc_model.fit(x_train_my, y_train)\n",
    "y_svc_pred = svc_model.predict(x_test)\n",
    "svc_score = accuracy_score(y_test, y_svc_pred)\n",
    "\n",
    "# Training the simple LR model\n",
    "lr_model_simple = LogisticRegression(random_state=0, max_iter=10000)\n",
    "lr_model_simple.fit(x_train_simple, y_train_simple)\n",
    "y_lr_pred_simple = lr_model_simple.predict(x_test_simple)\n",
    "lr_simple_score = accuracy_score(y_test_simple, y_lr_pred_simple)\n",
    "\n",
    "# Training the enhanced LR model\n",
    "lr_model = LogisticRegression(random_state=0, max_iter=10000)\n",
    "lr_model.fit(x_train_my, y_train)\n",
    "y_lr_pred = lr_model.predict(x_test)\n",
    "lr_score = accuracy_score(y_test, y_lr_pred)\n",
    "\n",
    "print('svc accuracy:', svc_score)\n",
    "print('lr_simple accuracy:', lr_simple_score)\n",
    "print('lr accuracy:', lr_score)\n"
   ]
  },
  {
   "cell_type": "markdown",
   "metadata": {},
   "source": [
    "# 2 逻辑回归分类器的实现"
   ]
  },
  {
   "cell_type": "markdown",
   "metadata": {
    "deletable": false,
    "editable": false
   },
   "source": [
    "## 2.1 确定优化目标"
   ]
  },
  {
   "cell_type": "code",
   "execution_count": null,
   "metadata": {
    "tags": []
   },
   "outputs": [],
   "source": [
    "rng_seed = 44\n",
    "np.random.seed(rng_seed)\n",
    "#  实现sigmoid激活函数\n",
    "def sigmoid(z):\n",
    "    return 1 / (1 + np.exp(-z))\n",
    "# 实现二元交叉熵损失函数\n",
    "def logistic_loss(y, y_hat):\n",
    "    logistic_loss =-np.mean( y * np.log(y_hat ) + (1 - y) * np.log(1 - y_hat ))\n",
    "    return logistic_loss\n",
    "# 定义整体损失函数\n",
    "def loss_function(X, y, weights):\n",
    "    z = np.dot(X, weights)\n",
    "    y_hat = sigmoid(z)\n",
    "    loss = logistic_loss(y, y_hat)\n",
    "    return loss\n"
   ]
  },
  {
   "cell_type": "markdown",
   "metadata": {
    "deletable": false,
    "editable": false
   },
   "source": [
    "## 2.2 计算优化目标的梯度\n"
   ]
  },
  {
   "cell_type": "markdown",
   "metadata": {
    "deletable": false,
    "editable": false
   },
   "source": [
    "$\\nabla_{\\theta} J(\\theta) = \\frac{1}{m} X^T (\\hat{y} - y)$\n"
   ]
  },
  {
   "cell_type": "code",
   "execution_count": null,
   "metadata": {
    "tags": []
   },
   "outputs": [],
   "source": [
    "# 实现sigmoid激活函数\n",
    "def sigmoid(z):\n",
    "    return 1 / (1 + np.exp(-z))\n",
    "\n",
    "# 实现梯度函数\n",
    "def gradient(X, y, weights):\n",
    "    m = y.size\n",
    "    z = np.dot(X, weights)\n",
    "    y_hat = sigmoid(z)\n",
    "    error = y_hat - y\n",
    "    gradient = (1 / m) * np.dot(X.T, error)\n",
    "    return gradient"
   ]
  },
  {
   "cell_type": "markdown",
   "metadata": {
    "deletable": false,
    "editable": false
   },
   "source": [
    "## 2.3 使用随机梯度下降（SGD）进行优化\n",
    "\n",
    "权重更新的数学表示为：\n",
    "\n",
    "$\\theta = \\theta - \\alpha \\nabla_{\\theta} J(\\theta)$"
   ]
  },
  {
   "cell_type": "code",
   "execution_count": null,
   "metadata": {
    "tags": []
   },
   "outputs": [],
   "source": [
    "def stochastic_gradient_descent(X, y, weights, learning_rate=0.01, num_iterations=100):\n",
    "    m = y.size\n",
    "    loss_history = []\n",
    "    \n",
    "    for i in range(num_iterations):\n",
    "        for j in range(m):\n",
    "            # 随机选择一个数据点\n",
    "            idx = np.random.randint(m)\n",
    "            X_i = X[idx, :].reshape(1, -1)\n",
    "            y_i = y[idx]\n",
    "            \n",
    "            # 计算梯度并更新权重\n",
    "            grad = gradient(X_i,y_i,weights)\n",
    "            weights -= learning_rate * grad\n",
    "            \n",
    "            # 计算并记录损失，用于监控\n",
    "            loss = loss_function(X,y,weights)\n",
    "            loss_history.append(loss)\n",
    "        \n",
    "        # 每10次迭代打印一次损失值\n",
    "#         if (i+1) % 1 == 0:\n",
    "#             print(f\"Iteration {i+1}/{num_iterations}, Loss: {loss:.4f}\")\n",
    "    \n",
    "    return weights, loss_history\n",
    "# rng_seed=44\n",
    "# np.random.seed(rng_seed)\n",
    "# num_features = 6\n",
    "# num_samples = 138\n",
    "# dummy_weights = np.random.rand(num_features)\n",
    "# dummy_X = np.random.rand(num_samples, num_features)\n",
    "# dummy_y = np.random.randint(0, 2, num_samples)\n",
    "# initial_weights = np.zeros(num_features)\n",
    "\n",
    "# final_weights, loss_history = stochastic_gradient_descent(dummy_X, dummy_y, initial_weights)"
   ]
  },
  {
   "cell_type": "markdown",
   "metadata": {
    "deletable": false,
    "editable": false
   },
   "source": [
    "## 2.4 训练与评测\n"
   ]
  },
  {
   "cell_type": "code",
   "execution_count": null,
   "metadata": {
    "deletable": false,
    "editable": false
   },
   "outputs": [],
   "source": [
    "# 得到初始的x_train, x_test\n",
    "\n",
    "x_simple_prepared = pd.get_dummies(x.copy())\n",
    "\n",
    "lbe = LabelEncoder()\n",
    "lbe.fit(y)\n",
    "y = lbe.transform(y)\n",
    "\n",
    "# 划分train，test数据集\n",
    "x_train, x_test, y_train, y_test = train_test_split(x_simple_prepared, y, train_size=0.8, test_size=1-0.8, random_state=0)\n",
    "x_train = x_train.values\n",
    "x_test = x_test.values\n",
    "x_train = np.where(x_train == True, 1, x_train)\n",
    "x_train = np.where(x_train == False, 0, x_train)\n",
    "x_test = np.where(x_test == True, 1, x_test)\n",
    "x_test = np.where(x_test == False, 0, x_test)\n",
    "x_train = x_train.astype(np.float64)\n",
    "x_test = x_test.astype(np.float64)\n"
   ]
  },
  {
   "cell_type": "code",
   "execution_count": null,
   "metadata": {
    "tags": []
   },
   "outputs": [],
   "source": [
    "from sklearn.metrics import accuracy_score, classification_report\n",
    "\n",
    "np.random.seed(rng_seed)\n",
    "\n",
    "def predict(X, weights):\n",
    "    # 根据给定的权重，预测数据集X的标签\n",
    "    predictions = np.dot(X, weights)\n",
    "    return np.where(predictions >= 0.5, 1, 0)\n",
    "\n",
    "num_features = x_train.shape[1]\n",
    "\n",
    "# 标准化x_train和x_test\n",
    "mean = np.mean(x_train, axis=0)\n",
    "std = np.std(x_train, axis=0)\n",
    "\n",
    "x_train = (x_train - mean) / std\n",
    "x_test = (x_test - mean) / std\n",
    "\n",
    "# weight初始化为0\n",
    "weights = np.zeros(num_features)\n",
    "\n",
    "learning_rate = 0.01\n",
    "num_iterations = 10\n",
    "\n",
    "final_weights, loss_history = stochastic_gradient_descent(x_train, y_train, weights, learning_rate, num_iterations)\n",
    "\n",
    "predictions = predict(x_test, final_weights)\n",
    "\n",
    "accuracy = accuracy_score(y_test, predictions)\n",
    "report = classification_report(y_test, predictions)\n",
    "\n",
    "accuracy\n"
   ]
  }
 ],
 "metadata": {
  "kernelspec": {
   "display_name": "Python 3",
   "language": "python",
   "name": "python3"
  },
  "language_info": {
   "codemirror_mode": {
    "name": "ipython",
    "version": 3
   },
   "file_extension": ".py",
   "mimetype": "text/x-python",
   "name": "python",
   "nbconvert_exporter": "python",
   "pygments_lexer": "ipython3",
   "version": "3.12.0"
  },
  "otter": {
   "OK_FORMAT": true,
   "assignment_name": "labs01",
   "tests": {
    "p1_1": {
     "name": "p1_1",
     "points": 20,
     "suites": [
      {
       "cases": [
        {
         "code": ">>> assert df['age'][2] == 41 and df['balance'][48] == 1443\n",
         "hidden": false,
         "locked": false
        },
        {
         "code": ">>> assert abs(svc_simple_score - 0.7357814599193909) < 0.01\n",
         "hidden": false,
         "locked": false
        }
       ],
       "scored": true,
       "setup": "",
       "teardown": "",
       "type": "doctest"
      }
     ]
    },
    "p1_2": {
     "name": "p1_2",
     "points": 20,
     "suites": [
      {
       "cases": [
        {
         "code": ">>> assert svc_score - svc_simple_score >= 0\n",
         "hidden": false,
         "locked": false
        },
        {
         "code": ">>> assert lr_score - lr_simple_score >= 0\n",
         "hidden": false,
         "locked": false
        }
       ],
       "scored": true,
       "setup": "",
       "teardown": "",
       "type": "doctest"
      }
     ]
    },
    "p2_1": {
     "name": "p2_1",
     "points": 10,
     "suites": [
      {
       "cases": [
        {
         "code": ">>> num_features = 5\n>>> num_samples = 10\n>>> np.random.seed(rng_seed)\n>>> dummy_weights = np.random.rand(num_features)\n>>> dummy_X = np.random.rand(num_samples, num_features)\n>>> dummy_y = np.random.randint(0, 2, num_samples)\n>>> initial_loss = loss_function(dummy_X, dummy_y, dummy_weights)\n>>> assert abs(initial_loss - 0.9160538386731103) < 0.0001\n",
         "hidden": false,
         "locked": false
        }
       ],
       "scored": true,
       "setup": "",
       "teardown": "",
       "type": "doctest"
      }
     ]
    },
    "p2_2": {
     "name": "p2_2",
     "points": 10,
     "suites": [
      {
       "cases": [
        {
         "code": ">>> num_features = 5\n>>> num_samples = 10\n>>> np.random.seed(rng_seed)\n>>> dummy_weights = np.random.rand(num_features)\n>>> dummy_X = np.random.rand(num_samples, num_features)\n>>> dummy_y = np.random.randint(0, 2, num_samples)\n>>> initial_gradient = gradient(dummy_X, dummy_y, dummy_weights)\n>>> assert abs(initial_gradient.sum() - 0.7627876529375204) < 0.0001\n",
         "hidden": false,
         "locked": false
        }
       ],
       "scored": true,
       "setup": "",
       "teardown": "",
       "type": "doctest"
      }
     ]
    },
    "p2_3": {
     "name": "p2_3",
     "points": 10,
     "suites": [
      {
       "cases": [
        {
         "code": ">>> np.random.seed(rng_seed)\n>>> num_features = 6\n>>> num_samples = 138\n>>> dummy_weights = np.random.rand(num_features)\n>>> dummy_X = np.random.rand(num_samples, num_features)\n>>> dummy_y = np.random.randint(0, 2, num_samples)\n>>> initial_weights = np.zeros(num_features)\n>>> (final_weights, loss_history) = stochastic_gradient_descent(dummy_X, dummy_y, initial_weights)\n>>> assert abs(loss_history[1] - 0.6931151309283121) < 0.0001\n",
         "hidden": false,
         "locked": false
        },
        {
         "code": ">>> np.random.seed(rng_seed)\n>>> num_features = 6\n>>> num_samples = 138\n>>> dummy_weights = np.random.rand(num_features)\n>>> dummy_X = np.random.rand(num_samples, num_features)\n>>> dummy_y = np.random.randint(0, 2, num_samples)\n>>> initial_weights = np.zeros(num_features)\n>>> (final_weights, loss_history) = stochastic_gradient_descent(dummy_X, dummy_y, initial_weights)\n>>> assert abs(len(loss_history) - 13800) < 0.0001\n",
         "hidden": false,
         "locked": false
        }
       ],
       "scored": true,
       "setup": "",
       "teardown": "",
       "type": "doctest"
      }
     ]
    },
    "p2_4": {
     "name": "p2_4",
     "points": 10,
     "suites": [
      {
       "cases": [
        {
         "code": ">>> assert x_train.shape == (8929, 51)\n",
         "hidden": false,
         "locked": false
        },
        {
         "code": ">>> assert abs(float(final_weights[0]) - -0.041616572346357336) < 1e-05\n",
         "hidden": false,
         "locked": false
        },
        {
         "code": ">>> assert abs(loss_history[0] - 0.6898603068851875) < 1e-05\n",
         "hidden": false,
         "locked": false
        }
       ],
       "scored": true,
       "setup": "",
       "teardown": "",
       "type": "doctest"
      }
     ]
    }
   }
  }
 },
 "nbformat": 4,
 "nbformat_minor": 4
}
